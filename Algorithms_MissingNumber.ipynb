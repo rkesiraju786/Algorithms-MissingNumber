{
  "nbformat": 4,
  "nbformat_minor": 0,
  "metadata": {
    "colab": {
      "provenance": []
    },
    "kernelspec": {
      "name": "python3",
      "display_name": "Python 3"
    },
    "language_info": {
      "name": "python"
    }
  },
  "cells": [
    {
      "cell_type": "code",
      "execution_count": 1,
      "metadata": {
        "colab": {
          "base_uri": "https://localhost:8080/"
        },
        "id": "4MYCHrsrX1Ek",
        "outputId": "07d0b637-5ab7-4981-da96-f796171b454d"
      },
      "outputs": [
        {
          "output_type": "execute_result",
          "data": {
            "text/plain": [
              "3"
            ]
          },
          "metadata": {},
          "execution_count": 1
        }
      ],
      "source": [
        "(hash('RajaGopal')%3)+1"
      ]
    },
    {
      "cell_type": "code",
      "source": [
        "def find_missing_numbers(nums):\n",
        "    # Convert the list to a set for O(1) lookups\n",
        "    num_set = set(nums)\n",
        "\n",
        "    # Determine the maximum value 'n' to set the range\n",
        "    n = max(nums)\n",
        "\n",
        "    # Identify missing numbers within the range [0, n]\n",
        "    missing_numbers = [num for num in range(n + 1) if num not in num_set]\n",
        "\n",
        "    # Return the missing numbers or -1 if there are none\n",
        "    return missing_numbers if missing_numbers else -1\n",
        "\n",
        "# Example inputs\n",
        "inputs = [\n",
        "    [3, 3, 0, 1],  # Example 4\n",
        "    [0, 1, 2, 3, 4],  # Example 5\n",
        "    [0, 2],  # Additional example\n",
        "    [5, 0, 1]  # Additional example\n",
        "]\n",
        "\n",
        "# Execute and print the output for each input\n",
        "for input_list in inputs:\n",
        "    output = find_missing_numbers(input_list)\n",
        "    print(f\"Input: {input_list}\\nOutput: {output}\\n\")\n"
      ],
      "metadata": {
        "colab": {
          "base_uri": "https://localhost:8080/"
        },
        "id": "V6FE7t-yaVg8",
        "outputId": "912d9c6f-31de-4156-869a-679c854116ce"
      },
      "execution_count": 3,
      "outputs": [
        {
          "output_type": "stream",
          "name": "stdout",
          "text": [
            "Input: [3, 3, 0, 1]\n",
            "Output: [2]\n",
            "\n",
            "Input: [0, 1, 2, 3, 4]\n",
            "Output: -1\n",
            "\n",
            "Input: [0, 2]\n",
            "Output: [1]\n",
            "\n",
            "Input: [5, 0, 1]\n",
            "Output: [2, 3, 4]\n",
            "\n"
          ]
        }
      ]
    }
  ]
}